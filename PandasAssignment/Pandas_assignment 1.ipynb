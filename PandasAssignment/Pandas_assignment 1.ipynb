{
 "cells": [
  {
   "cell_type": "markdown",
   "id": "b60b5c62",
   "metadata": {},
   "source": [
    "QUESTION 1"
   ]
  },
  {
   "cell_type": "code",
   "execution_count": 9,
   "id": "6a47435c",
   "metadata": {},
   "outputs": [
    {
     "data": {
      "text/plain": [
       "A     10\n",
       "B     20\n",
       "C     30\n",
       "D     40\n",
       "E     50\n",
       "F     60\n",
       "G     70\n",
       "H     80\n",
       "I     90\n",
       "J    100\n",
       "dtype: int64"
      ]
     },
     "execution_count": 9,
     "metadata": {},
     "output_type": "execute_result"
    }
   ],
   "source": [
    "import pandas as pd\n",
    "import numpy as np\n",
    "data_list = [10, 20, 30, 40, 50, 60, 70, 80, 90, 100]\n",
    "\n",
    "custom_index = ['A', 'B', 'C', 'D', 'E', 'F', 'G', 'H', 'I', 'J']\n",
    "\n",
    "custom_series = pd.Series(data_list, index=custom_index)\n",
    "custom_series"
   ]
  },
  {
   "cell_type": "markdown",
   "id": "08833300",
   "metadata": {},
   "source": [
    "QUESTION 2"
   ]
  },
  {
   "cell_type": "code",
   "execution_count": 6,
   "id": "c51e3c9b",
   "metadata": {},
   "outputs": [
    {
     "data": {
      "text/plain": [
       "A     10\n",
       "B     20\n",
       "C     30\n",
       "D     40\n",
       "E     50\n",
       "F     60\n",
       "G     70\n",
       "H     80\n",
       "I     90\n",
       "J    100\n",
       "dtype: int64"
      ]
     },
     "execution_count": 6,
     "metadata": {},
     "output_type": "execute_result"
    }
   ],
   "source": [
    "data_dict = {'A': 10, 'B': 20, 'C': 30, 'D': 40, 'E': 50, 'F': 60, 'G': 70, 'H': 80, 'I': 90, 'J': 100}\n",
    "dict_series = pd.Series(data_dict)\n",
    "dict_series"
   ]
  },
  {
   "cell_type": "markdown",
   "id": "1b0491de",
   "metadata": {},
   "source": [
    "QUESTION 3"
   ]
  },
  {
   "cell_type": "code",
   "execution_count": 8,
   "id": "819886f6",
   "metadata": {},
   "outputs": [
    {
     "data": {
      "text/html": [
       "<div>\n",
       "<style scoped>\n",
       "    .dataframe tbody tr th:only-of-type {\n",
       "        vertical-align: middle;\n",
       "    }\n",
       "\n",
       "    .dataframe tbody tr th {\n",
       "        vertical-align: top;\n",
       "    }\n",
       "\n",
       "    .dataframe thead th {\n",
       "        text-align: right;\n",
       "    }\n",
       "</style>\n",
       "<table border=\"1\" class=\"dataframe\">\n",
       "  <thead>\n",
       "    <tr style=\"text-align: right;\">\n",
       "      <th></th>\n",
       "      <th>Values</th>\n",
       "    </tr>\n",
       "  </thead>\n",
       "  <tbody>\n",
       "    <tr>\n",
       "      <th>A</th>\n",
       "      <td>10</td>\n",
       "    </tr>\n",
       "    <tr>\n",
       "      <th>B</th>\n",
       "      <td>20</td>\n",
       "    </tr>\n",
       "    <tr>\n",
       "      <th>C</th>\n",
       "      <td>30</td>\n",
       "    </tr>\n",
       "    <tr>\n",
       "      <th>D</th>\n",
       "      <td>40</td>\n",
       "    </tr>\n",
       "    <tr>\n",
       "      <th>E</th>\n",
       "      <td>50</td>\n",
       "    </tr>\n",
       "    <tr>\n",
       "      <th>F</th>\n",
       "      <td>60</td>\n",
       "    </tr>\n",
       "    <tr>\n",
       "      <th>G</th>\n",
       "      <td>70</td>\n",
       "    </tr>\n",
       "    <tr>\n",
       "      <th>H</th>\n",
       "      <td>80</td>\n",
       "    </tr>\n",
       "    <tr>\n",
       "      <th>I</th>\n",
       "      <td>90</td>\n",
       "    </tr>\n",
       "    <tr>\n",
       "      <th>J</th>\n",
       "      <td>100</td>\n",
       "    </tr>\n",
       "  </tbody>\n",
       "</table>\n",
       "</div>"
      ],
      "text/plain": [
       "   Values\n",
       "A      10\n",
       "B      20\n",
       "C      30\n",
       "D      40\n",
       "E      50\n",
       "F      60\n",
       "G      70\n",
       "H      80\n",
       "I      90\n",
       "J     100"
      ]
     },
     "execution_count": 8,
     "metadata": {},
     "output_type": "execute_result"
    }
   ],
   "source": [
    "custom_df = pd.DataFrame(custom_series, columns=['Values'])\n",
    "custom_df"
   ]
  },
  {
   "cell_type": "markdown",
   "id": "c7e7584e",
   "metadata": {},
   "source": [
    "QUESTION 4"
   ]
  },
  {
   "cell_type": "code",
   "execution_count": 11,
   "id": "4e5407d6",
   "metadata": {},
   "outputs": [
    {
     "data": {
      "text/html": [
       "<div>\n",
       "<style scoped>\n",
       "    .dataframe tbody tr th:only-of-type {\n",
       "        vertical-align: middle;\n",
       "    }\n",
       "\n",
       "    .dataframe tbody tr th {\n",
       "        vertical-align: top;\n",
       "    }\n",
       "\n",
       "    .dataframe thead th {\n",
       "        text-align: right;\n",
       "    }\n",
       "</style>\n",
       "<table border=\"1\" class=\"dataframe\">\n",
       "  <thead>\n",
       "    <tr style=\"text-align: right;\">\n",
       "      <th></th>\n",
       "      <th>Column1</th>\n",
       "      <th>Column2</th>\n",
       "      <th>Column3</th>\n",
       "      <th>Column4</th>\n",
       "      <th>Column5</th>\n",
       "    </tr>\n",
       "  </thead>\n",
       "  <tbody>\n",
       "    <tr>\n",
       "      <th>Row1</th>\n",
       "      <td>0.192615</td>\n",
       "      <td>0.266701</td>\n",
       "      <td>0.175553</td>\n",
       "      <td>0.111918</td>\n",
       "      <td>0.077534</td>\n",
       "    </tr>\n",
       "    <tr>\n",
       "      <th>Row2</th>\n",
       "      <td>0.642276</td>\n",
       "      <td>0.921164</td>\n",
       "      <td>0.261224</td>\n",
       "      <td>0.261387</td>\n",
       "      <td>0.326913</td>\n",
       "    </tr>\n",
       "    <tr>\n",
       "      <th>Row3</th>\n",
       "      <td>0.178570</td>\n",
       "      <td>0.779417</td>\n",
       "      <td>0.795028</td>\n",
       "      <td>0.545090</td>\n",
       "      <td>0.693560</td>\n",
       "    </tr>\n",
       "    <tr>\n",
       "      <th>Row4</th>\n",
       "      <td>0.518796</td>\n",
       "      <td>0.878645</td>\n",
       "      <td>0.958067</td>\n",
       "      <td>0.626891</td>\n",
       "      <td>0.128739</td>\n",
       "    </tr>\n",
       "    <tr>\n",
       "      <th>Row5</th>\n",
       "      <td>0.557365</td>\n",
       "      <td>0.374397</td>\n",
       "      <td>0.822782</td>\n",
       "      <td>0.216677</td>\n",
       "      <td>0.963333</td>\n",
       "    </tr>\n",
       "  </tbody>\n",
       "</table>\n",
       "</div>"
      ],
      "text/plain": [
       "       Column1   Column2   Column3   Column4   Column5\n",
       "Row1  0.192615  0.266701  0.175553  0.111918  0.077534\n",
       "Row2  0.642276  0.921164  0.261224  0.261387  0.326913\n",
       "Row3  0.178570  0.779417  0.795028  0.545090  0.693560\n",
       "Row4  0.518796  0.878645  0.958067  0.626891  0.128739\n",
       "Row5  0.557365  0.374397  0.822782  0.216677  0.963333"
      ]
     },
     "execution_count": 11,
     "metadata": {},
     "output_type": "execute_result"
    }
   ],
   "source": [
    "column_names = ['Column1', 'Column2', 'Column3', 'Column4', 'Column5']\n",
    "index_names = ['Row1', 'Row2', 'Row3', 'Row4', 'Row5']\n",
    "custom_df = pd.DataFrame(np.random.rand(5, 5), columns=column_names, index=index_names)\n",
    "custom_df"
   ]
  },
  {
   "cell_type": "code",
   "execution_count": 17,
   "id": "edda690a",
   "metadata": {},
   "outputs": [
    {
     "name": "stdout",
     "output_type": "stream",
     "text": [
      "Custom_df Separated into its individual Index:  \n",
      "\n",
      "Index:  Index(['Row1', 'Row2', 'Row3', 'Row4', 'Row5'], dtype='object')\n",
      "\n",
      "Custom_df Separated into its Values:  \n",
      " \n",
      "Values :  [[0.19261485 0.26670065 0.17555267 0.11191791 0.07753435]\n",
      " [0.64227594 0.92116415 0.26122386 0.26138746 0.32691317]\n",
      " [0.1785702  0.77941731 0.79502849 0.54509024 0.69356031]\n",
      " [0.51879576 0.87864484 0.95806692 0.62689071 0.12873863]\n",
      " [0.55736465 0.37439652 0.8227817  0.216677   0.96333264]]\n",
      "\n",
      "Custom_df Separated into its Columns:  \n",
      " \n",
      "Columns :  Index(['Column1', 'Column2', 'Column3', 'Column4', 'Column5'], dtype='object')\n"
     ]
    }
   ],
   "source": [
    "print('Custom_df Separated into its individual Index: ', '\\n')\n",
    "print('Index: ', custom_df.index)\n",
    "print('\\nCustom_df Separated into its Values: ', '\\n', '\\nValues : ', custom_df.values)\n",
    "print('\\nCustom_df Separated into its Columns: ', '\\n', '\\nColumns : ', custom_df.columns)"
   ]
  }
 ],
 "metadata": {
  "kernelspec": {
   "display_name": "Python 3 (ipykernel)",
   "language": "python",
   "name": "python3"
  },
  "language_info": {
   "codemirror_mode": {
    "name": "ipython",
    "version": 3
   },
   "file_extension": ".py",
   "mimetype": "text/x-python",
   "name": "python",
   "nbconvert_exporter": "python",
   "pygments_lexer": "ipython3",
   "version": "3.11.5"
  }
 },
 "nbformat": 4,
 "nbformat_minor": 5
}
