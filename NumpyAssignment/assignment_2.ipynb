{
 "cells": [
  {
   "cell_type": "code",
   "execution_count": null,
   "id": "94476283",
   "metadata": {},
   "outputs": [],
   "source": [
    "use us_births data to compute the following using np:\n",
    "    extract the year, gender and births column from the data\n",
    "    compute the aggregation of sum of total birth, sum of female birth and sum of male birth, mean and median\n",
    "    compute the maximum births and minimum births\n",
    "    indicate the gender with minimum birth and maximum birth\n",
    "    indicate the year with minimum birth and maximum birth"
   ]
  },
  {
   "cell_type": "code",
   "execution_count": 46,
   "id": "b85bcf6a",
   "metadata": {},
   "outputs": [
    {
     "data": {
      "text/html": [
       "<div>\n",
       "<style scoped>\n",
       "    .dataframe tbody tr th:only-of-type {\n",
       "        vertical-align: middle;\n",
       "    }\n",
       "\n",
       "    .dataframe tbody tr th {\n",
       "        vertical-align: top;\n",
       "    }\n",
       "\n",
       "    .dataframe thead th {\n",
       "        text-align: right;\n",
       "    }\n",
       "</style>\n",
       "<table border=\"1\" class=\"dataframe\">\n",
       "  <thead>\n",
       "    <tr style=\"text-align: right;\">\n",
       "      <th></th>\n",
       "      <th>year</th>\n",
       "      <th>month</th>\n",
       "      <th>day</th>\n",
       "      <th>gender</th>\n",
       "      <th>births</th>\n",
       "    </tr>\n",
       "  </thead>\n",
       "  <tbody>\n",
       "    <tr>\n",
       "      <th>0</th>\n",
       "      <td>1969</td>\n",
       "      <td>1</td>\n",
       "      <td>1.0</td>\n",
       "      <td>F</td>\n",
       "      <td>4046</td>\n",
       "    </tr>\n",
       "    <tr>\n",
       "      <th>1</th>\n",
       "      <td>1969</td>\n",
       "      <td>1</td>\n",
       "      <td>1.0</td>\n",
       "      <td>M</td>\n",
       "      <td>4440</td>\n",
       "    </tr>\n",
       "    <tr>\n",
       "      <th>2</th>\n",
       "      <td>1969</td>\n",
       "      <td>1</td>\n",
       "      <td>2.0</td>\n",
       "      <td>F</td>\n",
       "      <td>4454</td>\n",
       "    </tr>\n",
       "    <tr>\n",
       "      <th>3</th>\n",
       "      <td>1969</td>\n",
       "      <td>1</td>\n",
       "      <td>2.0</td>\n",
       "      <td>M</td>\n",
       "      <td>4548</td>\n",
       "    </tr>\n",
       "    <tr>\n",
       "      <th>4</th>\n",
       "      <td>1969</td>\n",
       "      <td>1</td>\n",
       "      <td>3.0</td>\n",
       "      <td>F</td>\n",
       "      <td>4548</td>\n",
       "    </tr>\n",
       "    <tr>\n",
       "      <th>...</th>\n",
       "      <td>...</td>\n",
       "      <td>...</td>\n",
       "      <td>...</td>\n",
       "      <td>...</td>\n",
       "      <td>...</td>\n",
       "    </tr>\n",
       "    <tr>\n",
       "      <th>15542</th>\n",
       "      <td>2008</td>\n",
       "      <td>10</td>\n",
       "      <td>NaN</td>\n",
       "      <td>M</td>\n",
       "      <td>183219</td>\n",
       "    </tr>\n",
       "    <tr>\n",
       "      <th>15543</th>\n",
       "      <td>2008</td>\n",
       "      <td>11</td>\n",
       "      <td>NaN</td>\n",
       "      <td>F</td>\n",
       "      <td>158939</td>\n",
       "    </tr>\n",
       "    <tr>\n",
       "      <th>15544</th>\n",
       "      <td>2008</td>\n",
       "      <td>11</td>\n",
       "      <td>NaN</td>\n",
       "      <td>M</td>\n",
       "      <td>165468</td>\n",
       "    </tr>\n",
       "    <tr>\n",
       "      <th>15545</th>\n",
       "      <td>2008</td>\n",
       "      <td>12</td>\n",
       "      <td>NaN</td>\n",
       "      <td>F</td>\n",
       "      <td>173215</td>\n",
       "    </tr>\n",
       "    <tr>\n",
       "      <th>15546</th>\n",
       "      <td>2008</td>\n",
       "      <td>12</td>\n",
       "      <td>NaN</td>\n",
       "      <td>M</td>\n",
       "      <td>181235</td>\n",
       "    </tr>\n",
       "  </tbody>\n",
       "</table>\n",
       "<p>15547 rows × 5 columns</p>\n",
       "</div>"
      ],
      "text/plain": [
       "       year  month  day gender  births\n",
       "0      1969      1  1.0      F    4046\n",
       "1      1969      1  1.0      M    4440\n",
       "2      1969      1  2.0      F    4454\n",
       "3      1969      1  2.0      M    4548\n",
       "4      1969      1  3.0      F    4548\n",
       "...     ...    ...  ...    ...     ...\n",
       "15542  2008     10  NaN      M  183219\n",
       "15543  2008     11  NaN      F  158939\n",
       "15544  2008     11  NaN      M  165468\n",
       "15545  2008     12  NaN      F  173215\n",
       "15546  2008     12  NaN      M  181235\n",
       "\n",
       "[15547 rows x 5 columns]"
      ]
     },
     "execution_count": 46,
     "metadata": {},
     "output_type": "execute_result"
    }
   ],
   "source": [
    "import numpy as np\n",
    "import pandas as pd\n",
    "\n",
    "us_birth_record = pd.read_csv(\"C:\\\\Datasets\\\\us_births.csv\")\n",
    "us_birth_record"
   ]
  },
  {
   "cell_type": "code",
   "execution_count": 18,
   "id": "9d18c799",
   "metadata": {},
   "outputs": [
    {
     "name": "stdout",
     "output_type": "stream",
     "text": [
      "<class 'pandas.core.frame.DataFrame'>\n",
      "RangeIndex: 15547 entries, 0 to 15546\n",
      "Data columns (total 5 columns):\n",
      " #   Column  Non-Null Count  Dtype  \n",
      "---  ------  --------------  -----  \n",
      " 0   year    15547 non-null  int64  \n",
      " 1   month   15547 non-null  int64  \n",
      " 2   day     15067 non-null  float64\n",
      " 3   gender  15547 non-null  object \n",
      " 4   births  15547 non-null  int64  \n",
      "dtypes: float64(1), int64(3), object(1)\n",
      "memory usage: 607.4+ KB\n"
     ]
    }
   ],
   "source": [
    "us_birth_record.info()"
   ]
  },
  {
   "cell_type": "code",
   "execution_count": 47,
   "id": "864a5ddd",
   "metadata": {},
   "outputs": [
    {
     "name": "stdout",
     "output_type": "stream",
     "text": [
      "US population year of birth\n",
      " [1969 1969 1969 ... 2008 2008 2008] \n",
      "\n",
      "US population gender\n",
      " ['F' 'M' 'F' ... 'M' 'F' 'M'] \n",
      "\n",
      "US population births\n",
      " [1969 1969 1969 ... 2008 2008 2008]\n"
     ]
    }
   ],
   "source": [
    "us_years = np.array(us_birth_record['year'])\n",
    "us_gender = np.array(us_birth_record['gender'])\n",
    "us_births = np.array(us_birth_record['births'])\n",
    "\n",
    "print('US population year of birth\\n', us_years, '\\n')\n",
    "print('US population gender\\n', us_gender, '\\n')\n",
    "print('US population births\\n', us_years)"
   ]
  },
  {
   "cell_type": "code",
   "execution_count": 37,
   "id": "3b2e2dfe",
   "metadata": {},
   "outputs": [
    {
     "name": "stdout",
     "output_type": "stream",
     "text": [
      "Female birth record is: \n",
      " [  4046   4454   4548 ... 175314 158939 173215] \n",
      "\n",
      "Sum of record is:  74035823 \n",
      "\n",
      "Mean value:  9521.067772633745 \n",
      "\n",
      "Median value:  4688.5 \n",
      "\n",
      "Maximum birth:  191495 \n",
      "\n",
      "Minimu birth:  1 \n",
      "\n"
     ]
    }
   ],
   "source": [
    "# Sum of total birth for females \n",
    "female_births = np.array(us_birth_record['births'][us_birth_record['gender'] == 'F'])\n",
    "female_births\n",
    "mean_val = np.mean(female_births)\n",
    "median_val = np.median(female_births)\n",
    "sum_val = female_births.sum()\n",
    "print('Female birth record is: \\n', female_births, '\\n')\n",
    "print('Sum of record is: ', sum_val, '\\n')\n",
    "print('Mean value: ', mean_val, '\\n')\n",
    "print('Median value: ', median_val, '\\n')\n",
    "print('Maximum birth: ', female_births.max(), '\\n')\n",
    "print('Minimum birth: ', female_births.min(), '\\n')"
   ]
  },
  {
   "cell_type": "code",
   "execution_count": 39,
   "id": "62e7e95d",
   "metadata": {},
   "outputs": [
    {
     "name": "stdout",
     "output_type": "stream",
     "text": [
      "Male birth record is: \n",
      " [  4440   4548   4994 ... 183219 165468 181235] \n",
      "\n",
      "Sum of record is:  77738555 \n",
      "\n",
      "Mean value:  10003.674559258783 \n",
      "\n",
      "Median value:  4938.0 \n",
      "\n",
      "Maximum birth:  199622 \n",
      "\n",
      "Minimum birth:  1 \n",
      "\n"
     ]
    }
   ],
   "source": [
    "# sum of birth for males\n",
    "male_births = np.array(us_birth_record['births'][us_birth_record['gender'] == 'M'])\n",
    "male_births\n",
    "mean_val = np.mean(male_births)\n",
    "median_val = np.median(male_births)\n",
    "sum_val = male_births.sum()\n",
    "print('Male birth record is: \\n', male_births, '\\n')\n",
    "print('Sum of record is: ', sum_val, '\\n')\n",
    "print('Mean value: ', mean_val, '\\n')\n",
    "print('Median value: ', median_val, '\\n')\n",
    "print('Maximum birth: ', male_births.max(), '\\n')\n",
    "print('Minimum birth: ', male_births.min(), '\\n')\n"
   ]
  },
  {
   "cell_type": "code",
   "execution_count": 41,
   "id": "9ae0b9b4",
   "metadata": {},
   "outputs": [
    {
     "name": "stdout",
     "output_type": "stream",
     "text": [
      "Maximum birth:  year        2008\n",
      "month         12\n",
      "day         99.0\n",
      "gender         M\n",
      "births    199622\n",
      "dtype: object \n",
      "\n",
      "Minimum birth:  year      1969\n",
      "month        1\n",
      "day        1.0\n",
      "gender       F\n",
      "births       1\n",
      "dtype: object \n",
      "\n"
     ]
    }
   ],
   "source": [
    "# Maximum birth \n",
    "print('Maximum birth: ', us_birth_record.max(),'\\n') \n",
    "print('Minimum birth: ', us_birth_record.min(), '\\n')"
   ]
  },
  {
   "cell_type": "code",
   "execution_count": 48,
   "id": "6a084cfa",
   "metadata": {},
   "outputs": [
    {
     "name": "stdout",
     "output_type": "stream",
     "text": [
      "The maximum birth:  199622 \n",
      "\n",
      "The minimum birth:  1 \n",
      "\n",
      "Sum of Total birth:  151774378\n"
     ]
    }
   ],
   "source": [
    "max_birth = us_births.max()\n",
    "min_birth = us_births.min()\n",
    "gender_with_maxbirth = us_gender\n",
    "total_birth = np.sum(us_birth_record['births'])\n",
    "print('The maximum birth: ', max_birth, '\\n')\n",
    "print('The minimum birth: ', min_birth, '\\n')\n",
    "print('Sum of Total birth: ', total_birth)"
   ]
  },
  {
   "cell_type": "code",
   "execution_count": 50,
   "id": "61e857d1",
   "metadata": {},
   "outputs": [
    {
     "data": {
      "text/plain": [
       "array([[  1,   2,   3,   4,   5,   6,   7,   8,   9,  10,  11,  12],\n",
       "       [  2,   4,   6,   8,  10,  12,  14,  16,  18,  20,  22,  24],\n",
       "       [  3,   6,   9,  12,  15,  18,  21,  24,  27,  30,  33,  36],\n",
       "       [  4,   8,  12,  16,  20,  24,  28,  32,  36,  40,  44,  48],\n",
       "       [  5,  10,  15,  20,  25,  30,  35,  40,  45,  50,  55,  60],\n",
       "       [  6,  12,  18,  24,  30,  36,  42,  48,  54,  60,  66,  72],\n",
       "       [  7,  14,  21,  28,  35,  42,  49,  56,  63,  70,  77,  84],\n",
       "       [  8,  16,  24,  32,  40,  48,  56,  64,  72,  80,  88,  96],\n",
       "       [  9,  18,  27,  36,  45,  54,  63,  72,  81,  90,  99, 108],\n",
       "       [ 10,  20,  30,  40,  50,  60,  70,  80,  90, 100, 110, 120],\n",
       "       [ 11,  22,  33,  44,  55,  66,  77,  88,  99, 110, 121, 132],\n",
       "       [ 12,  24,  36,  48,  60,  72,  84,  96, 108, 120, 132, 144]])"
      ]
     },
     "execution_count": 50,
     "metadata": {},
     "output_type": "execute_result"
    }
   ],
   "source": [
    "x = np.arange(1,13).reshape(1,12)\n",
    "y = np.arange(1,13).reshape(12,1)\n",
    "x * y"
   ]
  }
 ],
 "metadata": {
  "kernelspec": {
   "display_name": "Python 3 (ipykernel)",
   "language": "python",
   "name": "python3"
  },
  "language_info": {
   "codemirror_mode": {
    "name": "ipython",
    "version": 3
   },
   "file_extension": ".py",
   "mimetype": "text/x-python",
   "name": "python",
   "nbconvert_exporter": "python",
   "pygments_lexer": "ipython3",
   "version": "3.11.5"
  }
 },
 "nbformat": 4,
 "nbformat_minor": 5
}
