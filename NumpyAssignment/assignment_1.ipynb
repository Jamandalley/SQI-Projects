{
 "cells": [
  {
   "cell_type": "code",
   "execution_count": 2,
   "id": "2ae8ca9a",
   "metadata": {},
   "outputs": [],
   "source": [
    "# Generate a np array of (a) vector of lenght 50 (b) two dimension of shape 5x4. Both uniformly distributed between 0 and 1\n",
    "# Split the two dimension array in 1 above into three arrays taking the first two rows, follow by the next two rows and put the remaining row in another variable\n",
    "# Split the vector into in 1 above three arrays by taking the first 15, follow by the next 20 and the remaining into another variable.\n",
    "# Create a 4x5 array: (a). Using manual method (b). Using randomly generated value between 0 and 1 (c). Using array of ones"
   ]
  },
  {
   "cell_type": "code",
   "execution_count": 3,
   "id": "82c59f4e",
   "metadata": {},
   "outputs": [
    {
     "data": {
      "text/plain": [
       "array([0.77257681, 0.30717138, 0.74321404, 0.51378628, 0.2704007 ,\n",
       "       0.29258121, 0.34244674, 0.0103403 , 0.18815921, 0.60942734,\n",
       "       0.82362651, 0.99546185, 0.07625555, 0.74009076, 0.27839256,\n",
       "       0.2647458 , 0.54717379, 0.96124667, 0.60187314, 0.31059979,\n",
       "       0.41851988, 0.81439615, 0.92188329, 0.02774975, 0.66739792,\n",
       "       0.64302647, 0.86971284, 0.106705  , 0.74525932, 0.53636626,\n",
       "       0.26207121, 0.67889179, 0.74713553, 0.20235079, 0.33193948,\n",
       "       0.46570948, 0.68521971, 0.9711043 , 0.18013798, 0.33997622,\n",
       "       0.78136364, 0.3820475 , 0.29021532, 0.66858549, 0.67385885,\n",
       "       0.93252571, 0.94394304, 0.41088519, 0.73715299, 0.74276184])"
      ]
     },
     "execution_count": 3,
     "metadata": {},
     "output_type": "execute_result"
    }
   ],
   "source": [
    "import numpy as np\n",
    "vector = np.random.random(50)\n",
    "vector"
   ]
  },
  {
   "cell_type": "code",
   "execution_count": 4,
   "id": "7b98e242",
   "metadata": {},
   "outputs": [
    {
     "data": {
      "text/plain": [
       "array([[0.04351852, 0.90481682, 0.08926273, 0.95721372],\n",
       "       [0.92178314, 0.96800281, 0.30614453, 0.45240293],\n",
       "       [0.86085438, 0.7919818 , 0.15006093, 0.84474472],\n",
       "       [0.08389702, 0.6477365 , 0.53735086, 0.86878982],\n",
       "       [0.57704331, 0.71705413, 0.38156197, 0.17246893]])"
      ]
     },
     "execution_count": 4,
     "metadata": {},
     "output_type": "execute_result"
    }
   ],
   "source": [
    "vector_1 = np.random.random((5,4))\n",
    "vector_1"
   ]
  },
  {
   "cell_type": "code",
   "execution_count": 14,
   "id": "0286ef9f",
   "metadata": {},
   "outputs": [
    {
     "data": {
      "text/plain": [
       "(array([[0.04351852, 0.90481682, 0.08926273, 0.95721372],\n",
       "        [0.92178314, 0.96800281, 0.30614453, 0.45240293]]),\n",
       " array([[0.86085438, 0.7919818 , 0.15006093, 0.84474472],\n",
       "        [0.08389702, 0.6477365 , 0.53735086, 0.86878982]]),\n",
       " array([[0.57704331, 0.71705413, 0.38156197, 0.17246893]]))"
      ]
     },
     "execution_count": 14,
     "metadata": {},
     "output_type": "execute_result"
    }
   ],
   "source": [
    "vector_2, vector_3, vector_4 = np.vsplit(vector_1, [2,4])\n",
    "vector_2, vector_3, vector_4\n",
    "# Alternatively: \n",
    "# vector_new = np.array_split(vector_1, 3, axis = 0)\n",
    "# vector_new"
   ]
  },
  {
   "cell_type": "code",
   "execution_count": 16,
   "id": "ae561e98",
   "metadata": {},
   "outputs": [
    {
     "data": {
      "text/plain": [
       "(array([0.77257681, 0.30717138, 0.74321404, 0.51378628, 0.2704007 ,\n",
       "        0.29258121, 0.34244674, 0.0103403 , 0.18815921, 0.60942734,\n",
       "        0.82362651, 0.99546185, 0.07625555, 0.74009076, 0.27839256]),\n",
       " array([0.2647458 , 0.54717379, 0.96124667, 0.60187314, 0.31059979,\n",
       "        0.41851988, 0.81439615, 0.92188329, 0.02774975, 0.66739792,\n",
       "        0.64302647, 0.86971284, 0.106705  , 0.74525932, 0.53636626,\n",
       "        0.26207121, 0.67889179, 0.74713553, 0.20235079, 0.33193948]),\n",
       " array([0.46570948, 0.68521971, 0.9711043 , 0.18013798, 0.33997622,\n",
       "        0.78136364, 0.3820475 , 0.29021532, 0.66858549, 0.67385885,\n",
       "        0.93252571, 0.94394304, 0.41088519, 0.73715299, 0.74276184]))"
      ]
     },
     "execution_count": 16,
     "metadata": {},
     "output_type": "execute_result"
    }
   ],
   "source": [
    "vector_5, vector_6, vector_7 = np.split(vector, (15, 35))\n",
    "vector_5, vector_6, vector_7"
   ]
  },
  {
   "cell_type": "code",
   "execution_count": 7,
   "id": "d9477350",
   "metadata": {},
   "outputs": [
    {
     "data": {
      "text/plain": [
       "array([[ 1,  2,  3,  4,  5],\n",
       "       [ 6,  7,  8,  9, 10],\n",
       "       [11, 12, 13, 14, 15],\n",
       "       [16, 17, 18, 19, 20]])"
      ]
     },
     "execution_count": 7,
     "metadata": {},
     "output_type": "execute_result"
    }
   ],
   "source": [
    "val_2 = np.arange(1,21)\n",
    "val_2 = val_2.reshape(4,5)\n",
    "val_2"
   ]
  },
  {
   "cell_type": "code",
   "execution_count": 8,
   "id": "b65751fb",
   "metadata": {},
   "outputs": [
    {
     "data": {
      "text/plain": [
       "array([[0.50860237, 0.84925456, 0.87994198, 0.49469608, 0.44490327],\n",
       "       [0.76359116, 0.62725379, 0.76034544, 0.41371828, 0.46057733],\n",
       "       [0.45249673, 0.57524496, 0.07905636, 0.08316806, 0.24690646],\n",
       "       [0.77863666, 0.92841719, 0.38122152, 0.16368375, 0.30575693]])"
      ]
     },
     "execution_count": 8,
     "metadata": {},
     "output_type": "execute_result"
    }
   ],
   "source": [
    "var_4 = np.random.random(20)\n",
    "var_4 = var_4.reshape(4,5)\n",
    "var_4"
   ]
  },
  {
   "cell_type": "code",
   "execution_count": 9,
   "id": "2615f453",
   "metadata": {},
   "outputs": [
    {
     "data": {
      "text/plain": [
       "array([[1., 1., 1., 1., 1.],\n",
       "       [1., 1., 1., 1., 1.],\n",
       "       [1., 1., 1., 1., 1.],\n",
       "       [1., 1., 1., 1., 1.]])"
      ]
     },
     "execution_count": 9,
     "metadata": {},
     "output_type": "execute_result"
    }
   ],
   "source": [
    "var_5 = np.ones(20)\n",
    "var_5 = var_5.reshape(4,5)\n",
    "var_5"
   ]
  }
 ],
 "metadata": {
  "kernelspec": {
   "display_name": "Python 3 (ipykernel)",
   "language": "python",
   "name": "python3"
  },
  "language_info": {
   "codemirror_mode": {
    "name": "ipython",
    "version": 3
   },
   "file_extension": ".py",
   "mimetype": "text/x-python",
   "name": "python",
   "nbconvert_exporter": "python",
   "pygments_lexer": "ipython3",
   "version": "3.11.5"
  }
 },
 "nbformat": 4,
 "nbformat_minor": 5
}
