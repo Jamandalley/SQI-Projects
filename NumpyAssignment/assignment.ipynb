{
 "cells": [
  {
   "cell_type": "code",
   "execution_count": 19,
   "id": "bda9e257",
   "metadata": {},
   "outputs": [
    {
     "data": {
      "text/plain": [
       "array([ 1,  2,  3,  4,  5,  6,  7,  8,  9, 10, 11, 12, 13, 14, 15, 16, 17,\n",
       "       18, 19, 20, 21, 22, 23, 24, 25, 26, 27, 28, 29, 30, 31, 32, 33, 34,\n",
       "       35, 36, 37, 38, 39, 40, 41, 42, 43, 44, 45, 46, 47, 48, 49, 50])"
      ]
     },
     "execution_count": 19,
     "metadata": {},
     "output_type": "execute_result"
    }
   ],
   "source": [
    "Generate an np array of (a) vector of lenght 50 (b) two dimension of shape 5x4. Both uniformly distributed between 0 and 1\n",
    "Split the two dimension array in 1 above into three arrays taking the first two rows, follow by the next two rows and put the remaining row in another variable\n",
    "Split the vector into in 1 above three arrays by taking the first 15, follow by the next 20 and the remaining into another variable.\n",
    "Create a 4x5 array: (a). Using manual method (b). Using randomly generated value between 0 and 1 (c). Using array of ones \n",
    "\n",
    "import numpy as np\n",
    "val_1 = np.arange(1,51)\n",
    "val_1"
   ]
  },
  {
   "cell_type": "code",
   "execution_count": 10,
   "id": "aecd8205",
   "metadata": {},
   "outputs": [
    {
     "data": {
      "text/plain": [
       "array([[ 1,  2,  3,  4],\n",
       "       [ 5,  6,  7,  8],\n",
       "       [ 9, 10, 11, 12],\n",
       "       [13, 14, 15, 16],\n",
       "       [17, 18, 19, 20]])"
      ]
     },
     "execution_count": 10,
     "metadata": {},
     "output_type": "execute_result"
    }
   ],
   "source": [
    "val_2 = np.arange(1,21)\n",
    "val_3 = val_2.reshape(5,4)\n",
    "val_3"
   ]
  },
  {
   "cell_type": "code",
   "execution_count": 18,
   "id": "fe58e4e4",
   "metadata": {},
   "outputs": [
    {
     "data": {
      "text/plain": [
       "array([0.3751743 , 0.52018617, 0.75212197, 0.968259  , 0.85697289,\n",
       "       0.47099099, 0.22887287, 0.64173712, 0.97249913, 0.5516141 ,\n",
       "       0.19341713, 0.30691356, 0.02939008, 0.80255682, 0.16718148,\n",
       "       0.51234316, 0.94387508, 0.37358811, 0.86772706, 0.43212486,\n",
       "       0.73991079, 0.0841593 , 0.40239188, 0.74302571, 0.86383277,\n",
       "       0.17209951, 0.79781168, 0.71753152, 0.88123196, 0.40561544,\n",
       "       0.35364901, 0.17565284, 0.17266219, 0.57081458, 0.11738215,\n",
       "       0.59818576, 0.74050878, 0.71284036, 0.93716504, 0.80778128,\n",
       "       0.77440279, 0.04366316, 0.93091537, 0.99064894, 0.43369134,\n",
       "       0.09169122, 0.05514804, 0.20808452, 0.26390161, 0.9996813 ])"
      ]
     },
     "execution_count": 18,
     "metadata": {},
     "output_type": "execute_result"
    }
   ],
   "source": [
    "val_1 = np.random.random(50)\n",
    "val_1"
   ]
  },
  {
   "cell_type": "code",
   "execution_count": 23,
   "id": "0d5e23f5",
   "metadata": {},
   "outputs": [
    {
     "data": {
      "text/plain": [
       "array([[0.56777834, 0.7808566 , 0.36287253, 0.06014726],\n",
       "       [0.32094904, 0.49844734, 0.5928302 , 0.18315768],\n",
       "       [0.14188455, 0.57264954, 0.56525584, 0.6792185 ],\n",
       "       [0.76641998, 0.04463198, 0.23928195, 0.30397905],\n",
       "       [0.16738187, 0.62216076, 0.29506104, 0.02046113]])"
      ]
     },
     "execution_count": 23,
     "metadata": {},
     "output_type": "execute_result"
    }
   ],
   "source": [
    "val_2 = np.random.random(20)\n",
    "val_3 = val_2.reshape(5,4)\n",
    "val_3"
   ]
  },
  {
   "cell_type": "code",
   "execution_count": 1,
   "id": "c4a0f6d5",
   "metadata": {},
   "outputs": [
    {
     "ename": "NameError",
     "evalue": "name 'np' is not defined",
     "output_type": "error",
     "traceback": [
      "\u001b[1;31m---------------------------------------------------------------------------\u001b[0m",
      "\u001b[1;31mNameError\u001b[0m                                 Traceback (most recent call last)",
      "Cell \u001b[1;32mIn[1], line 1\u001b[0m\n\u001b[1;32m----> 1\u001b[0m np\u001b[38;5;241m.\u001b[39mrandom\u001b[38;5;241m.\u001b[39mrandom((\u001b[38;5;241m5\u001b[39m,\u001b[38;5;241m4\u001b[39m))\n",
      "\u001b[1;31mNameError\u001b[0m: name 'np' is not defined"
     ]
    }
   ],
   "source": [
    "np.random.random((5,4))"
   ]
  },
  {
   "cell_type": "code",
   "execution_count": 8,
   "id": "283debe8",
   "metadata": {},
   "outputs": [
    {
     "data": {
      "text/plain": [
       "array([[0.81745677, 0.46946158, 0.02322836, 0.88053464],\n",
       "       [0.31285861, 0.55786185, 0.32687032, 0.49524683],\n",
       "       [0.89990387, 0.21622349, 0.983529  , 0.12074625],\n",
       "       [0.95241904, 0.36753012, 0.55880585, 0.11796961],\n",
       "       [0.87102952, 0.40374871, 0.22047359, 0.78147762]])"
      ]
     },
     "execution_count": 8,
     "metadata": {},
     "output_type": "execute_result"
    }
   ],
   "source": [
    "import numpy as np\n",
    "var = np.random.random((5,4))\n",
    "var"
   ]
  }
 ],
 "metadata": {
  "kernelspec": {
   "display_name": "Python 3 (ipykernel)",
   "language": "python",
   "name": "python3"
  },
  "language_info": {
   "codemirror_mode": {
    "name": "ipython",
    "version": 3
   },
   "file_extension": ".py",
   "mimetype": "text/x-python",
   "name": "python",
   "nbconvert_exporter": "python",
   "pygments_lexer": "ipython3",
   "version": "3.11.5"
  }
 },
 "nbformat": 4,
 "nbformat_minor": 5
}
